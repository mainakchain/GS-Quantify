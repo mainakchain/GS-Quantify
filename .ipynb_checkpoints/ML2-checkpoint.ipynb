{
 "cells": [
  {
   "cell_type": "code",
   "execution_count": 1,
   "metadata": {},
   "outputs": [
    {
     "name": "stderr",
     "output_type": "stream",
     "text": [
      "C:\\ProgramData\\Anaconda2\\lib\\site-packages\\sklearn\\cross_validation.py:44: DeprecationWarning: This module was deprecated in version 0.18 in favor of the model_selection module into which all the refactored classes and functions are moved. Also note that the interface of the new CV iterators are different from that of this module. This module will be removed in 0.20.\n",
      "  \"This module will be removed in 0.20.\", DeprecationWarning)\n"
     ]
    }
   ],
   "source": [
    "import pandas as pd\n",
    "import matplotlib.pyplot as plt\n",
    "import numpy as np\n",
    "import seaborn as sns\n",
    "import sklearn\n",
    "from sklearn.preprocessing import LabelEncoder\n",
    "from sklearn.preprocessing import StandardScaler\n",
    "from sklearn.cross_validation import KFold\n",
    "\n",
    "from sklearn import cross_validation\n",
    "from sklearn import tree\n",
    "from sklearn import svm\n",
    "from sklearn import ensemble\n",
    "from sklearn import neighbors\n",
    "from sklearn import linear_model\n",
    "from sklearn import metrics\n",
    "from sklearn import preprocessing\n",
    "from sklearn.model_selection import cross_val_score\n",
    "\n",
    "plt.style.use('fivethirtyeight') # Good looking plots\n",
    "pd.set_option('display.max_columns', None) # Display any number of columns\n",
    "\n",
    "% matplotlib inline"
   ]
  },
  {
   "cell_type": "code",
   "execution_count": 2,
   "metadata": {
    "collapsed": true
   },
   "outputs": [],
   "source": [
    "train = pd.read_csv('gcTrianingSet.csv')\n",
    "test = pd.read_csv('gcPredictionFile.csv')"
   ]
  },
  {
   "cell_type": "code",
   "execution_count": 3,
   "metadata": {},
   "outputs": [
    {
     "data": {
      "text/html": [
       "<div>\n",
       "<style>\n",
       "    .dataframe thead tr:only-child th {\n",
       "        text-align: right;\n",
       "    }\n",
       "\n",
       "    .dataframe thead th {\n",
       "        text-align: left;\n",
       "    }\n",
       "\n",
       "    .dataframe tbody tr th {\n",
       "        vertical-align: top;\n",
       "    }\n",
       "</style>\n",
       "<table border=\"1\" class=\"dataframe\">\n",
       "  <thead>\n",
       "    <tr style=\"text-align: right;\">\n",
       "      <th></th>\n",
       "      <th>initialUsedMemory</th>\n",
       "      <th>initialFreeMemory</th>\n",
       "      <th>query token</th>\n",
       "      <th>gcRun</th>\n",
       "      <th>gcInitialMemory</th>\n",
       "      <th>gcFinalMemory</th>\n",
       "      <th>gcTotalMemory</th>\n",
       "      <th>userTime</th>\n",
       "      <th>sysTime</th>\n",
       "      <th>realTime</th>\n",
       "      <th>cpuTimeTaken</th>\n",
       "      <th>finalUsedMemory</th>\n",
       "      <th>finalFreeMemory</th>\n",
       "    </tr>\n",
       "  </thead>\n",
       "  <tbody>\n",
       "    <tr>\n",
       "      <th>0</th>\n",
       "      <td>4.249634</td>\n",
       "      <td>2.999878</td>\n",
       "      <td>token_1</td>\n",
       "      <td>False</td>\n",
       "      <td>0.000000</td>\n",
       "      <td>0.000000</td>\n",
       "      <td>0.000000</td>\n",
       "      <td>0.00</td>\n",
       "      <td>0.00</td>\n",
       "      <td>0.00</td>\n",
       "      <td>0.371230</td>\n",
       "      <td>4.409714</td>\n",
       "      <td>2.839798</td>\n",
       "    </tr>\n",
       "    <tr>\n",
       "      <th>1</th>\n",
       "      <td>4.409720</td>\n",
       "      <td>2.839792</td>\n",
       "      <td>token_2</td>\n",
       "      <td>False</td>\n",
       "      <td>0.000000</td>\n",
       "      <td>0.000000</td>\n",
       "      <td>0.000000</td>\n",
       "      <td>0.00</td>\n",
       "      <td>0.00</td>\n",
       "      <td>0.00</td>\n",
       "      <td>0.220883</td>\n",
       "      <td>4.482361</td>\n",
       "      <td>2.767151</td>\n",
       "    </tr>\n",
       "    <tr>\n",
       "      <th>2</th>\n",
       "      <td>4.482361</td>\n",
       "      <td>2.767151</td>\n",
       "      <td>token_3</td>\n",
       "      <td>False</td>\n",
       "      <td>0.000000</td>\n",
       "      <td>0.000000</td>\n",
       "      <td>0.000000</td>\n",
       "      <td>0.00</td>\n",
       "      <td>0.00</td>\n",
       "      <td>0.00</td>\n",
       "      <td>0.141776</td>\n",
       "      <td>4.542626</td>\n",
       "      <td>2.706886</td>\n",
       "    </tr>\n",
       "    <tr>\n",
       "      <th>3</th>\n",
       "      <td>4.542626</td>\n",
       "      <td>2.706886</td>\n",
       "      <td>token_4</td>\n",
       "      <td>False</td>\n",
       "      <td>0.000000</td>\n",
       "      <td>0.000000</td>\n",
       "      <td>0.000000</td>\n",
       "      <td>0.00</td>\n",
       "      <td>0.00</td>\n",
       "      <td>0.00</td>\n",
       "      <td>0.156459</td>\n",
       "      <td>4.616293</td>\n",
       "      <td>2.633218</td>\n",
       "    </tr>\n",
       "    <tr>\n",
       "      <th>4</th>\n",
       "      <td>4.616296</td>\n",
       "      <td>2.633216</td>\n",
       "      <td>token_5</td>\n",
       "      <td>False</td>\n",
       "      <td>0.000000</td>\n",
       "      <td>0.000000</td>\n",
       "      <td>0.000000</td>\n",
       "      <td>0.00</td>\n",
       "      <td>0.00</td>\n",
       "      <td>0.00</td>\n",
       "      <td>0.285218</td>\n",
       "      <td>4.787172</td>\n",
       "      <td>2.462339</td>\n",
       "    </tr>\n",
       "    <tr>\n",
       "      <th>5</th>\n",
       "      <td>4.787174</td>\n",
       "      <td>2.462337</td>\n",
       "      <td>token_6</td>\n",
       "      <td>False</td>\n",
       "      <td>0.000000</td>\n",
       "      <td>0.000000</td>\n",
       "      <td>0.000000</td>\n",
       "      <td>0.00</td>\n",
       "      <td>0.00</td>\n",
       "      <td>0.00</td>\n",
       "      <td>0.170063</td>\n",
       "      <td>4.902623</td>\n",
       "      <td>2.346889</td>\n",
       "    </tr>\n",
       "    <tr>\n",
       "      <th>6</th>\n",
       "      <td>4.902623</td>\n",
       "      <td>2.346889</td>\n",
       "      <td>token_7</td>\n",
       "      <td>False</td>\n",
       "      <td>0.000000</td>\n",
       "      <td>0.000000</td>\n",
       "      <td>0.000000</td>\n",
       "      <td>0.00</td>\n",
       "      <td>0.00</td>\n",
       "      <td>0.00</td>\n",
       "      <td>0.164785</td>\n",
       "      <td>4.977153</td>\n",
       "      <td>2.272359</td>\n",
       "    </tr>\n",
       "    <tr>\n",
       "      <th>7</th>\n",
       "      <td>4.977155</td>\n",
       "      <td>2.272357</td>\n",
       "      <td>token_8</td>\n",
       "      <td>True</td>\n",
       "      <td>5.055250</td>\n",
       "      <td>4.142316</td>\n",
       "      <td>7.249512</td>\n",
       "      <td>0.19</td>\n",
       "      <td>0.00</td>\n",
       "      <td>0.07</td>\n",
       "      <td>0.154474</td>\n",
       "      <td>4.168083</td>\n",
       "      <td>3.081428</td>\n",
       "    </tr>\n",
       "    <tr>\n",
       "      <th>8</th>\n",
       "      <td>4.171586</td>\n",
       "      <td>3.077926</td>\n",
       "      <td>token_9</td>\n",
       "      <td>False</td>\n",
       "      <td>0.000000</td>\n",
       "      <td>0.000000</td>\n",
       "      <td>0.000000</td>\n",
       "      <td>0.00</td>\n",
       "      <td>0.00</td>\n",
       "      <td>0.00</td>\n",
       "      <td>0.457611</td>\n",
       "      <td>4.520573</td>\n",
       "      <td>2.728938</td>\n",
       "    </tr>\n",
       "    <tr>\n",
       "      <th>9</th>\n",
       "      <td>4.523625</td>\n",
       "      <td>2.725887</td>\n",
       "      <td>token_10</td>\n",
       "      <td>False</td>\n",
       "      <td>0.000000</td>\n",
       "      <td>0.000000</td>\n",
       "      <td>0.000000</td>\n",
       "      <td>0.00</td>\n",
       "      <td>0.00</td>\n",
       "      <td>0.00</td>\n",
       "      <td>0.182251</td>\n",
       "      <td>4.621179</td>\n",
       "      <td>2.628333</td>\n",
       "    </tr>\n",
       "    <tr>\n",
       "      <th>10</th>\n",
       "      <td>4.621179</td>\n",
       "      <td>2.628333</td>\n",
       "      <td>token_11</td>\n",
       "      <td>False</td>\n",
       "      <td>0.000000</td>\n",
       "      <td>0.000000</td>\n",
       "      <td>0.000000</td>\n",
       "      <td>0.00</td>\n",
       "      <td>0.00</td>\n",
       "      <td>0.00</td>\n",
       "      <td>0.190840</td>\n",
       "      <td>4.720848</td>\n",
       "      <td>2.528664</td>\n",
       "    </tr>\n",
       "    <tr>\n",
       "      <th>11</th>\n",
       "      <td>4.720848</td>\n",
       "      <td>2.528664</td>\n",
       "      <td>token_12</td>\n",
       "      <td>False</td>\n",
       "      <td>0.000000</td>\n",
       "      <td>0.000000</td>\n",
       "      <td>0.000000</td>\n",
       "      <td>0.00</td>\n",
       "      <td>0.00</td>\n",
       "      <td>0.00</td>\n",
       "      <td>0.207480</td>\n",
       "      <td>4.861294</td>\n",
       "      <td>2.388217</td>\n",
       "    </tr>\n",
       "    <tr>\n",
       "      <th>12</th>\n",
       "      <td>4.861294</td>\n",
       "      <td>2.388217</td>\n",
       "      <td>token_13</td>\n",
       "      <td>False</td>\n",
       "      <td>0.000000</td>\n",
       "      <td>0.000000</td>\n",
       "      <td>0.000000</td>\n",
       "      <td>0.00</td>\n",
       "      <td>0.00</td>\n",
       "      <td>0.00</td>\n",
       "      <td>0.121614</td>\n",
       "      <td>4.919907</td>\n",
       "      <td>2.329605</td>\n",
       "    </tr>\n",
       "    <tr>\n",
       "      <th>13</th>\n",
       "      <td>4.919907</td>\n",
       "      <td>2.329605</td>\n",
       "      <td>token_14</td>\n",
       "      <td>False</td>\n",
       "      <td>0.000000</td>\n",
       "      <td>0.000000</td>\n",
       "      <td>0.000000</td>\n",
       "      <td>0.00</td>\n",
       "      <td>0.00</td>\n",
       "      <td>0.00</td>\n",
       "      <td>0.227620</td>\n",
       "      <td>5.050119</td>\n",
       "      <td>2.199393</td>\n",
       "    </tr>\n",
       "    <tr>\n",
       "      <th>14</th>\n",
       "      <td>5.050119</td>\n",
       "      <td>2.199393</td>\n",
       "      <td>token_15</td>\n",
       "      <td>True</td>\n",
       "      <td>5.120831</td>\n",
       "      <td>4.137337</td>\n",
       "      <td>7.249512</td>\n",
       "      <td>0.17</td>\n",
       "      <td>0.01</td>\n",
       "      <td>0.03</td>\n",
       "      <td>0.275411</td>\n",
       "      <td>4.239779</td>\n",
       "      <td>3.009732</td>\n",
       "    </tr>\n",
       "    <tr>\n",
       "      <th>15</th>\n",
       "      <td>4.243753</td>\n",
       "      <td>3.005758</td>\n",
       "      <td>token_16</td>\n",
       "      <td>False</td>\n",
       "      <td>0.000000</td>\n",
       "      <td>0.000000</td>\n",
       "      <td>0.000000</td>\n",
       "      <td>0.00</td>\n",
       "      <td>0.00</td>\n",
       "      <td>0.00</td>\n",
       "      <td>0.070200</td>\n",
       "      <td>4.277324</td>\n",
       "      <td>2.972188</td>\n",
       "    </tr>\n",
       "    <tr>\n",
       "      <th>16</th>\n",
       "      <td>4.280944</td>\n",
       "      <td>2.968567</td>\n",
       "      <td>token_17</td>\n",
       "      <td>False</td>\n",
       "      <td>0.000000</td>\n",
       "      <td>0.000000</td>\n",
       "      <td>0.000000</td>\n",
       "      <td>0.00</td>\n",
       "      <td>0.00</td>\n",
       "      <td>0.00</td>\n",
       "      <td>0.239481</td>\n",
       "      <td>4.462195</td>\n",
       "      <td>2.787316</td>\n",
       "    </tr>\n",
       "    <tr>\n",
       "      <th>17</th>\n",
       "      <td>4.462195</td>\n",
       "      <td>2.787316</td>\n",
       "      <td>token_18</td>\n",
       "      <td>False</td>\n",
       "      <td>0.000000</td>\n",
       "      <td>0.000000</td>\n",
       "      <td>0.000000</td>\n",
       "      <td>0.00</td>\n",
       "      <td>0.00</td>\n",
       "      <td>0.00</td>\n",
       "      <td>0.173965</td>\n",
       "      <td>4.582409</td>\n",
       "      <td>2.667103</td>\n",
       "    </tr>\n",
       "    <tr>\n",
       "      <th>18</th>\n",
       "      <td>4.582409</td>\n",
       "      <td>2.667103</td>\n",
       "      <td>token_19</td>\n",
       "      <td>False</td>\n",
       "      <td>0.000000</td>\n",
       "      <td>0.000000</td>\n",
       "      <td>0.000000</td>\n",
       "      <td>0.00</td>\n",
       "      <td>0.00</td>\n",
       "      <td>0.00</td>\n",
       "      <td>0.252222</td>\n",
       "      <td>4.750459</td>\n",
       "      <td>2.499053</td>\n",
       "    </tr>\n",
       "    <tr>\n",
       "      <th>19</th>\n",
       "      <td>4.750459</td>\n",
       "      <td>2.499053</td>\n",
       "      <td>token_20</td>\n",
       "      <td>False</td>\n",
       "      <td>0.000000</td>\n",
       "      <td>0.000000</td>\n",
       "      <td>0.000000</td>\n",
       "      <td>0.00</td>\n",
       "      <td>0.00</td>\n",
       "      <td>0.00</td>\n",
       "      <td>0.197709</td>\n",
       "      <td>4.907353</td>\n",
       "      <td>2.342159</td>\n",
       "    </tr>\n",
       "    <tr>\n",
       "      <th>20</th>\n",
       "      <td>4.907353</td>\n",
       "      <td>2.342159</td>\n",
       "      <td>token_21</td>\n",
       "      <td>False</td>\n",
       "      <td>0.000000</td>\n",
       "      <td>0.000000</td>\n",
       "      <td>0.000000</td>\n",
       "      <td>0.00</td>\n",
       "      <td>0.00</td>\n",
       "      <td>0.00</td>\n",
       "      <td>0.206092</td>\n",
       "      <td>4.995290</td>\n",
       "      <td>2.254222</td>\n",
       "    </tr>\n",
       "    <tr>\n",
       "      <th>21</th>\n",
       "      <td>4.995290</td>\n",
       "      <td>2.254222</td>\n",
       "      <td>token_22</td>\n",
       "      <td>False</td>\n",
       "      <td>0.000000</td>\n",
       "      <td>0.000000</td>\n",
       "      <td>0.000000</td>\n",
       "      <td>0.00</td>\n",
       "      <td>0.00</td>\n",
       "      <td>0.00</td>\n",
       "      <td>0.096779</td>\n",
       "      <td>5.045302</td>\n",
       "      <td>2.204210</td>\n",
       "    </tr>\n",
       "    <tr>\n",
       "      <th>22</th>\n",
       "      <td>5.045302</td>\n",
       "      <td>2.204210</td>\n",
       "      <td>token_23</td>\n",
       "      <td>True</td>\n",
       "      <td>5.115852</td>\n",
       "      <td>4.132132</td>\n",
       "      <td>7.249512</td>\n",
       "      <td>0.17</td>\n",
       "      <td>0.00</td>\n",
       "      <td>0.02</td>\n",
       "      <td>0.592555</td>\n",
       "      <td>4.656779</td>\n",
       "      <td>2.592733</td>\n",
       "    </tr>\n",
       "    <tr>\n",
       "      <th>23</th>\n",
       "      <td>4.662953</td>\n",
       "      <td>2.586559</td>\n",
       "      <td>token_24</td>\n",
       "      <td>False</td>\n",
       "      <td>0.000000</td>\n",
       "      <td>0.000000</td>\n",
       "      <td>0.000000</td>\n",
       "      <td>0.00</td>\n",
       "      <td>0.00</td>\n",
       "      <td>0.00</td>\n",
       "      <td>0.216461</td>\n",
       "      <td>4.789210</td>\n",
       "      <td>2.460302</td>\n",
       "    </tr>\n",
       "    <tr>\n",
       "      <th>24</th>\n",
       "      <td>4.792982</td>\n",
       "      <td>2.456530</td>\n",
       "      <td>token_25</td>\n",
       "      <td>False</td>\n",
       "      <td>0.000000</td>\n",
       "      <td>0.000000</td>\n",
       "      <td>0.000000</td>\n",
       "      <td>0.00</td>\n",
       "      <td>0.00</td>\n",
       "      <td>0.00</td>\n",
       "      <td>0.086305</td>\n",
       "      <td>4.842613</td>\n",
       "      <td>2.406899</td>\n",
       "    </tr>\n",
       "    <tr>\n",
       "      <th>25</th>\n",
       "      <td>4.842718</td>\n",
       "      <td>2.406794</td>\n",
       "      <td>token_26</td>\n",
       "      <td>False</td>\n",
       "      <td>0.000000</td>\n",
       "      <td>0.000000</td>\n",
       "      <td>0.000000</td>\n",
       "      <td>0.00</td>\n",
       "      <td>0.00</td>\n",
       "      <td>0.00</td>\n",
       "      <td>0.026951</td>\n",
       "      <td>4.858456</td>\n",
       "      <td>2.391055</td>\n",
       "    </tr>\n",
       "    <tr>\n",
       "      <th>26</th>\n",
       "      <td>4.858725</td>\n",
       "      <td>2.390786</td>\n",
       "      <td>token_27</td>\n",
       "      <td>False</td>\n",
       "      <td>0.000000</td>\n",
       "      <td>0.000000</td>\n",
       "      <td>0.000000</td>\n",
       "      <td>0.00</td>\n",
       "      <td>0.00</td>\n",
       "      <td>0.00</td>\n",
       "      <td>0.100673</td>\n",
       "      <td>4.911962</td>\n",
       "      <td>2.337550</td>\n",
       "    </tr>\n",
       "    <tr>\n",
       "      <th>27</th>\n",
       "      <td>4.911962</td>\n",
       "      <td>2.337550</td>\n",
       "      <td>token_28</td>\n",
       "      <td>False</td>\n",
       "      <td>0.000000</td>\n",
       "      <td>0.000000</td>\n",
       "      <td>0.000000</td>\n",
       "      <td>0.00</td>\n",
       "      <td>0.00</td>\n",
       "      <td>0.00</td>\n",
       "      <td>0.171593</td>\n",
       "      <td>5.001542</td>\n",
       "      <td>2.247970</td>\n",
       "    </tr>\n",
       "    <tr>\n",
       "      <th>28</th>\n",
       "      <td>5.001671</td>\n",
       "      <td>2.247841</td>\n",
       "      <td>token_29</td>\n",
       "      <td>False</td>\n",
       "      <td>0.000000</td>\n",
       "      <td>0.000000</td>\n",
       "      <td>0.000000</td>\n",
       "      <td>0.00</td>\n",
       "      <td>0.00</td>\n",
       "      <td>0.00</td>\n",
       "      <td>0.123160</td>\n",
       "      <td>5.065997</td>\n",
       "      <td>2.183514</td>\n",
       "    </tr>\n",
       "    <tr>\n",
       "      <th>29</th>\n",
       "      <td>5.065997</td>\n",
       "      <td>2.183514</td>\n",
       "      <td>token_30</td>\n",
       "      <td>True</td>\n",
       "      <td>5.110647</td>\n",
       "      <td>4.115836</td>\n",
       "      <td>7.249512</td>\n",
       "      <td>0.13</td>\n",
       "      <td>0.00</td>\n",
       "      <td>0.02</td>\n",
       "      <td>0.119891</td>\n",
       "      <td>4.149363</td>\n",
       "      <td>3.100148</td>\n",
       "    </tr>\n",
       "  </tbody>\n",
       "</table>\n",
       "</div>"
      ],
      "text/plain": [
       "    initialUsedMemory  initialFreeMemory query token  gcRun  gcInitialMemory  \\\n",
       "0            4.249634           2.999878     token_1  False         0.000000   \n",
       "1            4.409720           2.839792     token_2  False         0.000000   \n",
       "2            4.482361           2.767151     token_3  False         0.000000   \n",
       "3            4.542626           2.706886     token_4  False         0.000000   \n",
       "4            4.616296           2.633216     token_5  False         0.000000   \n",
       "5            4.787174           2.462337     token_6  False         0.000000   \n",
       "6            4.902623           2.346889     token_7  False         0.000000   \n",
       "7            4.977155           2.272357     token_8   True         5.055250   \n",
       "8            4.171586           3.077926     token_9  False         0.000000   \n",
       "9            4.523625           2.725887    token_10  False         0.000000   \n",
       "10           4.621179           2.628333    token_11  False         0.000000   \n",
       "11           4.720848           2.528664    token_12  False         0.000000   \n",
       "12           4.861294           2.388217    token_13  False         0.000000   \n",
       "13           4.919907           2.329605    token_14  False         0.000000   \n",
       "14           5.050119           2.199393    token_15   True         5.120831   \n",
       "15           4.243753           3.005758    token_16  False         0.000000   \n",
       "16           4.280944           2.968567    token_17  False         0.000000   \n",
       "17           4.462195           2.787316    token_18  False         0.000000   \n",
       "18           4.582409           2.667103    token_19  False         0.000000   \n",
       "19           4.750459           2.499053    token_20  False         0.000000   \n",
       "20           4.907353           2.342159    token_21  False         0.000000   \n",
       "21           4.995290           2.254222    token_22  False         0.000000   \n",
       "22           5.045302           2.204210    token_23   True         5.115852   \n",
       "23           4.662953           2.586559    token_24  False         0.000000   \n",
       "24           4.792982           2.456530    token_25  False         0.000000   \n",
       "25           4.842718           2.406794    token_26  False         0.000000   \n",
       "26           4.858725           2.390786    token_27  False         0.000000   \n",
       "27           4.911962           2.337550    token_28  False         0.000000   \n",
       "28           5.001671           2.247841    token_29  False         0.000000   \n",
       "29           5.065997           2.183514    token_30   True         5.110647   \n",
       "\n",
       "    gcFinalMemory  gcTotalMemory  userTime  sysTime  realTime  cpuTimeTaken  \\\n",
       "0        0.000000       0.000000      0.00     0.00      0.00      0.371230   \n",
       "1        0.000000       0.000000      0.00     0.00      0.00      0.220883   \n",
       "2        0.000000       0.000000      0.00     0.00      0.00      0.141776   \n",
       "3        0.000000       0.000000      0.00     0.00      0.00      0.156459   \n",
       "4        0.000000       0.000000      0.00     0.00      0.00      0.285218   \n",
       "5        0.000000       0.000000      0.00     0.00      0.00      0.170063   \n",
       "6        0.000000       0.000000      0.00     0.00      0.00      0.164785   \n",
       "7        4.142316       7.249512      0.19     0.00      0.07      0.154474   \n",
       "8        0.000000       0.000000      0.00     0.00      0.00      0.457611   \n",
       "9        0.000000       0.000000      0.00     0.00      0.00      0.182251   \n",
       "10       0.000000       0.000000      0.00     0.00      0.00      0.190840   \n",
       "11       0.000000       0.000000      0.00     0.00      0.00      0.207480   \n",
       "12       0.000000       0.000000      0.00     0.00      0.00      0.121614   \n",
       "13       0.000000       0.000000      0.00     0.00      0.00      0.227620   \n",
       "14       4.137337       7.249512      0.17     0.01      0.03      0.275411   \n",
       "15       0.000000       0.000000      0.00     0.00      0.00      0.070200   \n",
       "16       0.000000       0.000000      0.00     0.00      0.00      0.239481   \n",
       "17       0.000000       0.000000      0.00     0.00      0.00      0.173965   \n",
       "18       0.000000       0.000000      0.00     0.00      0.00      0.252222   \n",
       "19       0.000000       0.000000      0.00     0.00      0.00      0.197709   \n",
       "20       0.000000       0.000000      0.00     0.00      0.00      0.206092   \n",
       "21       0.000000       0.000000      0.00     0.00      0.00      0.096779   \n",
       "22       4.132132       7.249512      0.17     0.00      0.02      0.592555   \n",
       "23       0.000000       0.000000      0.00     0.00      0.00      0.216461   \n",
       "24       0.000000       0.000000      0.00     0.00      0.00      0.086305   \n",
       "25       0.000000       0.000000      0.00     0.00      0.00      0.026951   \n",
       "26       0.000000       0.000000      0.00     0.00      0.00      0.100673   \n",
       "27       0.000000       0.000000      0.00     0.00      0.00      0.171593   \n",
       "28       0.000000       0.000000      0.00     0.00      0.00      0.123160   \n",
       "29       4.115836       7.249512      0.13     0.00      0.02      0.119891   \n",
       "\n",
       "    finalUsedMemory  finalFreeMemory  \n",
       "0          4.409714         2.839798  \n",
       "1          4.482361         2.767151  \n",
       "2          4.542626         2.706886  \n",
       "3          4.616293         2.633218  \n",
       "4          4.787172         2.462339  \n",
       "5          4.902623         2.346889  \n",
       "6          4.977153         2.272359  \n",
       "7          4.168083         3.081428  \n",
       "8          4.520573         2.728938  \n",
       "9          4.621179         2.628333  \n",
       "10         4.720848         2.528664  \n",
       "11         4.861294         2.388217  \n",
       "12         4.919907         2.329605  \n",
       "13         5.050119         2.199393  \n",
       "14         4.239779         3.009732  \n",
       "15         4.277324         2.972188  \n",
       "16         4.462195         2.787316  \n",
       "17         4.582409         2.667103  \n",
       "18         4.750459         2.499053  \n",
       "19         4.907353         2.342159  \n",
       "20         4.995290         2.254222  \n",
       "21         5.045302         2.204210  \n",
       "22         4.656779         2.592733  \n",
       "23         4.789210         2.460302  \n",
       "24         4.842613         2.406899  \n",
       "25         4.858456         2.391055  \n",
       "26         4.911962         2.337550  \n",
       "27         5.001542         2.247970  \n",
       "28         5.065997         2.183514  \n",
       "29         4.149363         3.100148  "
      ]
     },
     "execution_count": 3,
     "metadata": {},
     "output_type": "execute_result"
    }
   ],
   "source": [
    "train.head(30)"
   ]
  },
  {
   "cell_type": "code",
   "execution_count": 4,
   "metadata": {},
   "outputs": [
    {
     "data": {
      "text/html": [
       "<div>\n",
       "<style>\n",
       "    .dataframe thead tr:only-child th {\n",
       "        text-align: right;\n",
       "    }\n",
       "\n",
       "    .dataframe thead th {\n",
       "        text-align: left;\n",
       "    }\n",
       "\n",
       "    .dataframe tbody tr th {\n",
       "        vertical-align: top;\n",
       "    }\n",
       "</style>\n",
       "<table border=\"1\" class=\"dataframe\">\n",
       "  <thead>\n",
       "    <tr style=\"text-align: right;\">\n",
       "      <th></th>\n",
       "      <th>initialUsedMemory</th>\n",
       "      <th>initialFreeMemory</th>\n",
       "      <th>query token</th>\n",
       "      <th>cpuTimeTaken</th>\n",
       "      <th>gcRun</th>\n",
       "    </tr>\n",
       "  </thead>\n",
       "  <tbody>\n",
       "    <tr>\n",
       "      <th>0</th>\n",
       "      <td>4.247186</td>\n",
       "      <td>2.774299</td>\n",
       "      <td>token_11</td>\n",
       "      <td>0.408436</td>\n",
       "      <td>NaN</td>\n",
       "    </tr>\n",
       "    <tr>\n",
       "      <th>1</th>\n",
       "      <td>NaN</td>\n",
       "      <td>NaN</td>\n",
       "      <td>token_76</td>\n",
       "      <td>0.124429</td>\n",
       "      <td>NaN</td>\n",
       "    </tr>\n",
       "    <tr>\n",
       "      <th>2</th>\n",
       "      <td>NaN</td>\n",
       "      <td>NaN</td>\n",
       "      <td>token_53</td>\n",
       "      <td>0.245838</td>\n",
       "      <td>NaN</td>\n",
       "    </tr>\n",
       "    <tr>\n",
       "      <th>3</th>\n",
       "      <td>NaN</td>\n",
       "      <td>NaN</td>\n",
       "      <td>token_88</td>\n",
       "      <td>0.169346</td>\n",
       "      <td>NaN</td>\n",
       "    </tr>\n",
       "    <tr>\n",
       "      <th>4</th>\n",
       "      <td>NaN</td>\n",
       "      <td>NaN</td>\n",
       "      <td>token_70</td>\n",
       "      <td>0.296311</td>\n",
       "      <td>NaN</td>\n",
       "    </tr>\n",
       "  </tbody>\n",
       "</table>\n",
       "</div>"
      ],
      "text/plain": [
       "   initialUsedMemory  initialFreeMemory query token  cpuTimeTaken  gcRun\n",
       "0           4.247186           2.774299    token_11      0.408436    NaN\n",
       "1                NaN                NaN    token_76      0.124429    NaN\n",
       "2                NaN                NaN    token_53      0.245838    NaN\n",
       "3                NaN                NaN    token_88      0.169346    NaN\n",
       "4                NaN                NaN    token_70      0.296311    NaN"
      ]
     },
     "execution_count": 4,
     "metadata": {},
     "output_type": "execute_result"
    }
   ],
   "source": [
    "test.head()"
   ]
  },
  {
   "cell_type": "code",
   "execution_count": 5,
   "metadata": {},
   "outputs": [
    {
     "data": {
      "text/plain": [
       "((2730, 13), (1625, 5))"
      ]
     },
     "execution_count": 5,
     "metadata": {},
     "output_type": "execute_result"
    }
   ],
   "source": [
    "train.shape , test.shape"
   ]
  },
  {
   "cell_type": "code",
   "execution_count": 6,
   "metadata": {},
   "outputs": [
    {
     "data": {
      "text/html": [
       "<div>\n",
       "<style>\n",
       "    .dataframe thead tr:only-child th {\n",
       "        text-align: right;\n",
       "    }\n",
       "\n",
       "    .dataframe thead th {\n",
       "        text-align: left;\n",
       "    }\n",
       "\n",
       "    .dataframe tbody tr th {\n",
       "        vertical-align: top;\n",
       "    }\n",
       "</style>\n",
       "<table border=\"1\" class=\"dataframe\">\n",
       "  <thead>\n",
       "    <tr style=\"text-align: right;\">\n",
       "      <th></th>\n",
       "      <th>initialUsedMemory</th>\n",
       "      <th>initialFreeMemory</th>\n",
       "      <th>gcInitialMemory</th>\n",
       "      <th>gcFinalMemory</th>\n",
       "      <th>gcTotalMemory</th>\n",
       "      <th>userTime</th>\n",
       "      <th>sysTime</th>\n",
       "      <th>realTime</th>\n",
       "      <th>cpuTimeTaken</th>\n",
       "      <th>finalUsedMemory</th>\n",
       "      <th>finalFreeMemory</th>\n",
       "    </tr>\n",
       "  </thead>\n",
       "  <tbody>\n",
       "    <tr>\n",
       "      <th>count</th>\n",
       "      <td>2730.000000</td>\n",
       "      <td>2730.000000</td>\n",
       "      <td>2730.000000</td>\n",
       "      <td>2730.000000</td>\n",
       "      <td>2730.000000</td>\n",
       "      <td>2730.000000</td>\n",
       "      <td>2730.000000</td>\n",
       "      <td>2730.000000</td>\n",
       "      <td>2730.000000</td>\n",
       "      <td>2730.000000</td>\n",
       "      <td>2730.000000</td>\n",
       "    </tr>\n",
       "    <tr>\n",
       "      <th>mean</th>\n",
       "      <td>5.775503</td>\n",
       "      <td>1.921919</td>\n",
       "      <td>0.415684</td>\n",
       "      <td>0.291495</td>\n",
       "      <td>0.479192</td>\n",
       "      <td>0.018359</td>\n",
       "      <td>0.000535</td>\n",
       "      <td>0.002755</td>\n",
       "      <td>0.186569</td>\n",
       "      <td>5.775588</td>\n",
       "      <td>1.921990</td>\n",
       "    </tr>\n",
       "    <tr>\n",
       "      <th>std</th>\n",
       "      <td>0.801402</td>\n",
       "      <td>0.726219</td>\n",
       "      <td>1.619302</td>\n",
       "      <td>1.132280</td>\n",
       "      <td>1.855206</td>\n",
       "      <td>0.111837</td>\n",
       "      <td>0.007700</td>\n",
       "      <td>0.016707</td>\n",
       "      <td>0.128994</td>\n",
       "      <td>0.802645</td>\n",
       "      <td>0.728086</td>\n",
       "    </tr>\n",
       "    <tr>\n",
       "      <th>min</th>\n",
       "      <td>4.129662</td>\n",
       "      <td>0.330214</td>\n",
       "      <td>0.000000</td>\n",
       "      <td>0.000000</td>\n",
       "      <td>0.000000</td>\n",
       "      <td>0.000000</td>\n",
       "      <td>0.000000</td>\n",
       "      <td>0.000000</td>\n",
       "      <td>0.001052</td>\n",
       "      <td>4.117682</td>\n",
       "      <td>0.330214</td>\n",
       "    </tr>\n",
       "    <tr>\n",
       "      <th>25%</th>\n",
       "      <td>5.143413</td>\n",
       "      <td>1.338731</td>\n",
       "      <td>0.000000</td>\n",
       "      <td>0.000000</td>\n",
       "      <td>0.000000</td>\n",
       "      <td>0.000000</td>\n",
       "      <td>0.000000</td>\n",
       "      <td>0.000000</td>\n",
       "      <td>0.112348</td>\n",
       "      <td>5.137244</td>\n",
       "      <td>1.337994</td>\n",
       "    </tr>\n",
       "    <tr>\n",
       "      <th>50%</th>\n",
       "      <td>5.758096</td>\n",
       "      <td>1.961032</td>\n",
       "      <td>0.000000</td>\n",
       "      <td>0.000000</td>\n",
       "      <td>0.000000</td>\n",
       "      <td>0.000000</td>\n",
       "      <td>0.000000</td>\n",
       "      <td>0.000000</td>\n",
       "      <td>0.141588</td>\n",
       "      <td>5.758960</td>\n",
       "      <td>1.959821</td>\n",
       "    </tr>\n",
       "    <tr>\n",
       "      <th>75%</th>\n",
       "      <td>6.418293</td>\n",
       "      <td>2.484630</td>\n",
       "      <td>0.000000</td>\n",
       "      <td>0.000000</td>\n",
       "      <td>0.000000</td>\n",
       "      <td>0.000000</td>\n",
       "      <td>0.000000</td>\n",
       "      <td>0.000000</td>\n",
       "      <td>0.230622</td>\n",
       "      <td>6.419282</td>\n",
       "      <td>2.484630</td>\n",
       "    </tr>\n",
       "    <tr>\n",
       "      <th>max</th>\n",
       "      <td>7.520346</td>\n",
       "      <td>3.728506</td>\n",
       "      <td>7.583425</td>\n",
       "      <td>5.281528</td>\n",
       "      <td>8.037598</td>\n",
       "      <td>2.410000</td>\n",
       "      <td>0.260000</td>\n",
       "      <td>0.350000</td>\n",
       "      <td>0.906536</td>\n",
       "      <td>7.520346</td>\n",
       "      <td>3.749075</td>\n",
       "    </tr>\n",
       "  </tbody>\n",
       "</table>\n",
       "</div>"
      ],
      "text/plain": [
       "       initialUsedMemory  initialFreeMemory  gcInitialMemory  gcFinalMemory  \\\n",
       "count        2730.000000        2730.000000      2730.000000    2730.000000   \n",
       "mean            5.775503           1.921919         0.415684       0.291495   \n",
       "std             0.801402           0.726219         1.619302       1.132280   \n",
       "min             4.129662           0.330214         0.000000       0.000000   \n",
       "25%             5.143413           1.338731         0.000000       0.000000   \n",
       "50%             5.758096           1.961032         0.000000       0.000000   \n",
       "75%             6.418293           2.484630         0.000000       0.000000   \n",
       "max             7.520346           3.728506         7.583425       5.281528   \n",
       "\n",
       "       gcTotalMemory     userTime      sysTime     realTime  cpuTimeTaken  \\\n",
       "count    2730.000000  2730.000000  2730.000000  2730.000000   2730.000000   \n",
       "mean        0.479192     0.018359     0.000535     0.002755      0.186569   \n",
       "std         1.855206     0.111837     0.007700     0.016707      0.128994   \n",
       "min         0.000000     0.000000     0.000000     0.000000      0.001052   \n",
       "25%         0.000000     0.000000     0.000000     0.000000      0.112348   \n",
       "50%         0.000000     0.000000     0.000000     0.000000      0.141588   \n",
       "75%         0.000000     0.000000     0.000000     0.000000      0.230622   \n",
       "max         8.037598     2.410000     0.260000     0.350000      0.906536   \n",
       "\n",
       "       finalUsedMemory  finalFreeMemory  \n",
       "count      2730.000000      2730.000000  \n",
       "mean          5.775588         1.921990  \n",
       "std           0.802645         0.728086  \n",
       "min           4.117682         0.330214  \n",
       "25%           5.137244         1.337994  \n",
       "50%           5.758960         1.959821  \n",
       "75%           6.419282         2.484630  \n",
       "max           7.520346         3.749075  "
      ]
     },
     "execution_count": 6,
     "metadata": {},
     "output_type": "execute_result"
    }
   ],
   "source": [
    "train.describe()"
   ]
  },
  {
   "cell_type": "code",
   "execution_count": 7,
   "metadata": {
    "collapsed": true
   },
   "outputs": [],
   "source": [
    "l =[]\n",
    "for index,row in train.iterrows():\n",
    "    a = row['initialUsedMemory']+row['initialFreeMemory']\n",
    "    l.append(a)\n",
    "train['initialTotalMemory'] = l"
   ]
  },
  {
   "cell_type": "code",
   "execution_count": 8,
   "metadata": {},
   "outputs": [
    {
     "data": {
      "text/plain": [
       "0       7.249512\n",
       "1       7.249512\n",
       "2       7.249512\n",
       "3       7.249512\n",
       "4       7.249512\n",
       "5       7.249512\n",
       "6       7.249512\n",
       "7       7.249512\n",
       "8       7.249512\n",
       "9       7.249512\n",
       "10      7.249512\n",
       "11      7.249512\n",
       "12      7.249512\n",
       "13      7.249512\n",
       "14      7.249512\n",
       "15      7.249512\n",
       "16      7.249512\n",
       "17      7.249512\n",
       "18      7.249512\n",
       "19      7.249512\n",
       "20      7.249512\n",
       "21      7.249512\n",
       "22      7.249512\n",
       "23      7.249512\n",
       "24      7.249512\n",
       "25      7.249512\n",
       "26      7.249512\n",
       "27      7.249512\n",
       "28      7.249512\n",
       "29      7.249512\n",
       "          ...   \n",
       "2700    7.606934\n",
       "2701    7.606934\n",
       "2702    7.606934\n",
       "2703    7.606934\n",
       "2704    7.606934\n",
       "2705    7.606934\n",
       "2706    7.606934\n",
       "2707    7.606934\n",
       "2708    7.606934\n",
       "2709    7.606934\n",
       "2710    7.606934\n",
       "2711    7.606934\n",
       "2712    7.606934\n",
       "2713    7.606934\n",
       "2714    7.606934\n",
       "2715    7.606934\n",
       "2716    7.694824\n",
       "2717    7.694824\n",
       "2718    7.694824\n",
       "2719    7.694824\n",
       "2720    7.694824\n",
       "2721    7.694824\n",
       "2722    7.694824\n",
       "2723    7.694824\n",
       "2724    7.694824\n",
       "2725    7.694824\n",
       "2726    7.694824\n",
       "2727    7.694824\n",
       "2728    7.694824\n",
       "2729    7.694824\n",
       "Name: initialTotalMemory, Length: 2730, dtype: float64"
      ]
     },
     "execution_count": 8,
     "metadata": {},
     "output_type": "execute_result"
    }
   ],
   "source": [
    "train['initialTotalMemory']"
   ]
  },
  {
   "cell_type": "code",
   "execution_count": 9,
   "metadata": {
    "collapsed": true
   },
   "outputs": [],
   "source": [
    "l =[]\n",
    "for index,row in train.iterrows():\n",
    "    a = row['finalUsedMemory']+row['finalFreeMemory']\n",
    "    l.append(a)\n",
    "train['finalTotalMemory'] = l"
   ]
  },
  {
   "cell_type": "code",
   "execution_count": 10,
   "metadata": {},
   "outputs": [
    {
     "data": {
      "text/plain": [
       "8.037597657000001"
      ]
     },
     "execution_count": 10,
     "metadata": {},
     "output_type": "execute_result"
    }
   ],
   "source": [
    "train['finalTotalMemory'].max()"
   ]
  },
  {
   "cell_type": "code",
   "execution_count": 11,
   "metadata": {
    "collapsed": true
   },
   "outputs": [],
   "source": [
    "l =[]\n",
    "for index,row in train.iterrows():\n",
    "    a = row['finalTotalMemory']-row['initialTotalMemory']\n",
    "    l.append(float(\"{0:.6f}\".format(a)))\n",
    "train['changeInMemory'] = l"
   ]
  },
  {
   "cell_type": "code",
   "execution_count": 12,
   "metadata": {
    "collapsed": true
   },
   "outputs": [],
   "source": [
    "# train.drop(['chnageInMemory'],axis =1 ,inplace=True)"
   ]
  },
  {
   "cell_type": "code",
   "execution_count": 13,
   "metadata": {},
   "outputs": [
    {
     "data": {
      "text/plain": [
       "-0.000000    2572\n",
       " 0.006348       4\n",
       " 0.018066       3\n",
       " 0.011719       3\n",
       " 0.025879       3\n",
       "-0.001953       2\n",
       "-0.004883       2\n",
       " 0.021973       2\n",
       " 0.016113       2\n",
       " 0.003906       2\n",
       " 0.006836       2\n",
       " 0.056641       2\n",
       " 0.043945       2\n",
       " 0.027832       2\n",
       " 0.045898       2\n",
       " 0.028809       2\n",
       " 0.004395       2\n",
       " 0.030273       2\n",
       " 0.025391       2\n",
       " 0.029297       2\n",
       "-0.025391       2\n",
       " 0.043457       2\n",
       " 0.010254       2\n",
       " 0.048828       2\n",
       " 0.018555       2\n",
       " 0.036621       2\n",
       " 0.009766       1\n",
       "-0.039551       1\n",
       "-0.214844       1\n",
       " 0.003418       1\n",
       "             ... \n",
       "-0.058594       1\n",
       "-0.072266       1\n",
       " 0.028320       1\n",
       " 0.041992       1\n",
       "-0.001465       1\n",
       " 0.024414       1\n",
       " 0.000488       1\n",
       " 0.145020       1\n",
       " 0.275879       1\n",
       "-0.012695       1\n",
       " 0.069336       1\n",
       "-0.045410       1\n",
       " 0.096680       1\n",
       "-0.299316       1\n",
       "-0.007324       1\n",
       " 0.007812       1\n",
       "-0.198242       1\n",
       "-0.040039       1\n",
       "-0.010254       1\n",
       " 0.011230       1\n",
       " 0.085449       1\n",
       " 0.277832       1\n",
       "-0.284668       1\n",
       "-0.224121       1\n",
       " 0.254883       1\n",
       "-0.011230       1\n",
       " 0.053711       1\n",
       "-0.222656       1\n",
       " 0.147461       1\n",
       "-0.016602       1\n",
       "Name: changeInMemory, Length: 129, dtype: int64"
      ]
     },
     "execution_count": 13,
     "metadata": {},
     "output_type": "execute_result"
    }
   ],
   "source": [
    "train['changeInMemory'].value_counts()"
   ]
  },
  {
   "cell_type": "code",
   "execution_count": 14,
   "metadata": {},
   "outputs": [
    {
     "data": {
      "text/plain": [
       "False    2559\n",
       "True      171\n",
       "Name: gcRun, dtype: int64"
      ]
     },
     "execution_count": 14,
     "metadata": {},
     "output_type": "execute_result"
    }
   ],
   "source": [
    "train['gcRun'].value_counts()"
   ]
  },
  {
   "cell_type": "code",
   "execution_count": 15,
   "metadata": {},
   "outputs": [
    {
     "data": {
      "image/png": "[encoded data removed]",
      "text/plain": [
       "<matplotlib.figure.Figure at 0x512d7f0>"
      ]
     },
     "metadata": {},
     "output_type": "display_data"
    }
   ],
   "source": [
    "train.boxplot(column=\"changeInMemory\",by= \"gcRun\",figsize= (8,8))\n",
    "plt.show()"
   ]
  },
  {
   "cell_type": "code",
   "execution_count": 16,
   "metadata": {
    "collapsed": true
   },
   "outputs": [],
   "source": [
    "carat_table = pd.crosstab(index=train[\"changeInMemory\"], \n",
    "                          columns=train[\"gcRun\"])\n"
   ]
  },
  {
   "cell_type": "code",
   "execution_count": 17,
   "metadata": {},
   "outputs": [
    {
     "data": {
      "image/png": "[encoded data removed]",
      "text/plain": [
       "<matplotlib.figure.Figure at 0xccc19e8>"
      ]
     },
     "metadata": {},
     "output_type": "display_data"
    }
   ],
   "source": [
    "carat_table.plot(kind=\"bar\", \n",
    "                 figsize=(8,8),\n",
    "                 stacked=True)\n",
    "plt.show()"
   ]
  },
  {
   "cell_type": "code",
   "execution_count": 18,
   "metadata": {
    "collapsed": true
   },
   "outputs": [],
   "source": [
    "l =[]\n",
    "for index,row in train.iterrows():\n",
    "    token = row['query token']\n",
    "    l.append(int(filter(str.isdigit, token)))\n",
    "train['token'] = l"
   ]
  },
  {
   "cell_type": "code",
   "execution_count": 19,
   "metadata": {},
   "outputs": [
    {
     "data": {
      "text/plain": [
       "array(['token_1', 'token_2', 'token_3', 'token_4', 'token_5', 'token_6',\n",
       "       'token_7', 'token_8', 'token_9', 'token_10', 'token_11', 'token_12',\n",
       "       'token_13', 'token_14', 'token_15', 'token_16', 'token_17',\n",
       "       'token_18', 'token_19', 'token_20', 'token_21', 'token_22',\n",
       "       'token_23', 'token_24', 'token_25', 'token_26', 'token_27',\n",
       "       'token_28', 'token_29', 'token_30', 'token_31', 'token_32',\n",
       "       'token_33', 'token_34', 'token_35', 'token_36', 'token_37',\n",
       "       'token_38', 'token_39', 'token_40', 'token_41', 'token_42',\n",
       "       'token_43', 'token_44', 'token_45', 'token_46', 'token_47',\n",
       "       'token_48', 'token_49', 'token_50', 'token_51', 'token_52',\n",
       "       'token_53', 'token_54', 'token_55', 'token_56', 'token_57',\n",
       "       'token_58', 'token_59', 'token_60', 'token_61', 'token_62',\n",
       "       'token_63', 'token_64', 'token_65', 'token_66', 'token_67',\n",
       "       'token_68', 'token_69', 'token_70', 'token_71', 'token_72',\n",
       "       'token_73', 'token_74', 'token_75', 'token_76', 'token_77',\n",
       "       'token_78', 'token_79', 'token_80', 'token_81', 'token_82',\n",
       "       'token_83', 'token_84', 'token_85', 'token_86', 'token_87',\n",
       "       'token_88', 'token_89', 'token_90', 'token_91'], dtype=object)"
      ]
     },
     "execution_count": 19,
     "metadata": {},
     "output_type": "execute_result"
    }
   ],
   "source": [
    "train['query token'].unique()"
   ]
  },
  {
   "cell_type": "code",
   "execution_count": 20,
   "metadata": {},
   "outputs": [
    {
     "data": {
      "text/plain": [
       "array([ 1,  2,  3,  4,  5,  6,  7,  8,  9, 10, 11, 12, 13, 14, 15, 16, 17,\n",
       "       18, 19, 20, 21, 22, 23, 24, 25, 26, 27, 28, 29, 30, 31, 32, 33, 34,\n",
       "       35, 36, 37, 38, 39, 40, 41, 42, 43, 44, 45, 46, 47, 48, 49, 50, 51,\n",
       "       52, 53, 54, 55, 56, 57, 58, 59, 60, 61, 62, 63, 64, 65, 66, 67, 68,\n",
       "       69, 70, 71, 72, 73, 74, 75, 76, 77, 78, 79, 80, 81, 82, 83, 84, 85,\n",
       "       86, 87, 88, 89, 90, 91], dtype=int64)"
      ]
     },
     "execution_count": 20,
     "metadata": {},
     "output_type": "execute_result"
    }
   ],
   "source": [
    "train['token'].unique()"
   ]
  },
  {
   "cell_type": "code",
   "execution_count": 21,
   "metadata": {
    "collapsed": true
   },
   "outputs": [],
   "source": [
    "dic = {True:1 ,\n",
    "      False :0}"
   ]
  },
  {
   "cell_type": "code",
   "execution_count": 22,
   "metadata": {
    "collapsed": true
   },
   "outputs": [],
   "source": [
    "\n",
    "train['gcRun'] = train['gcRun'].map(dic).astype(int)"
   ]
  },
  {
   "cell_type": "code",
   "execution_count": 23,
   "metadata": {
    "collapsed": true
   },
   "outputs": [],
   "source": [
    "train.drop(['query token','initialTotalMemory','finalTotalMemory'],axis=1,inplace=True)"
   ]
  },
  {
   "cell_type": "code",
   "execution_count": 24,
   "metadata": {},
   "outputs": [
    {
     "data": {
      "text/html": [
       "<div>\n",
       "<style>\n",
       "    .dataframe thead tr:only-child th {\n",
       "        text-align: right;\n",
       "    }\n",
       "\n",
       "    .dataframe thead th {\n",
       "        text-align: left;\n",
       "    }\n",
       "\n",
       "    .dataframe tbody tr th {\n",
       "        vertical-align: top;\n",
       "    }\n",
       "</style>\n",
       "<table border=\"1\" class=\"dataframe\">\n",
       "  <thead>\n",
       "    <tr style=\"text-align: right;\">\n",
       "      <th></th>\n",
       "      <th>initialUsedMemory</th>\n",
       "      <th>initialFreeMemory</th>\n",
       "      <th>gcRun</th>\n",
       "      <th>gcInitialMemory</th>\n",
       "      <th>gcFinalMemory</th>\n",
       "      <th>gcTotalMemory</th>\n",
       "      <th>userTime</th>\n",
       "      <th>sysTime</th>\n",
       "      <th>realTime</th>\n",
       "      <th>cpuTimeTaken</th>\n",
       "      <th>finalUsedMemory</th>\n",
       "      <th>finalFreeMemory</th>\n",
       "      <th>changeInMemory</th>\n",
       "      <th>token</th>\n",
       "    </tr>\n",
       "  </thead>\n",
       "  <tbody>\n",
       "    <tr>\n",
       "      <th>0</th>\n",
       "      <td>4.249634</td>\n",
       "      <td>2.999878</td>\n",
       "      <td>0</td>\n",
       "      <td>0.0</td>\n",
       "      <td>0.0</td>\n",
       "      <td>0.0</td>\n",
       "      <td>0.0</td>\n",
       "      <td>0.0</td>\n",
       "      <td>0.0</td>\n",
       "      <td>0.371230</td>\n",
       "      <td>4.409714</td>\n",
       "      <td>2.839798</td>\n",
       "      <td>-0.0</td>\n",
       "      <td>1</td>\n",
       "    </tr>\n",
       "    <tr>\n",
       "      <th>1</th>\n",
       "      <td>4.409720</td>\n",
       "      <td>2.839792</td>\n",
       "      <td>0</td>\n",
       "      <td>0.0</td>\n",
       "      <td>0.0</td>\n",
       "      <td>0.0</td>\n",
       "      <td>0.0</td>\n",
       "      <td>0.0</td>\n",
       "      <td>0.0</td>\n",
       "      <td>0.220883</td>\n",
       "      <td>4.482361</td>\n",
       "      <td>2.767151</td>\n",
       "      <td>-0.0</td>\n",
       "      <td>2</td>\n",
       "    </tr>\n",
       "    <tr>\n",
       "      <th>2</th>\n",
       "      <td>4.482361</td>\n",
       "      <td>2.767151</td>\n",
       "      <td>0</td>\n",
       "      <td>0.0</td>\n",
       "      <td>0.0</td>\n",
       "      <td>0.0</td>\n",
       "      <td>0.0</td>\n",
       "      <td>0.0</td>\n",
       "      <td>0.0</td>\n",
       "      <td>0.141776</td>\n",
       "      <td>4.542626</td>\n",
       "      <td>2.706886</td>\n",
       "      <td>0.0</td>\n",
       "      <td>3</td>\n",
       "    </tr>\n",
       "    <tr>\n",
       "      <th>3</th>\n",
       "      <td>4.542626</td>\n",
       "      <td>2.706886</td>\n",
       "      <td>0</td>\n",
       "      <td>0.0</td>\n",
       "      <td>0.0</td>\n",
       "      <td>0.0</td>\n",
       "      <td>0.0</td>\n",
       "      <td>0.0</td>\n",
       "      <td>0.0</td>\n",
       "      <td>0.156459</td>\n",
       "      <td>4.616293</td>\n",
       "      <td>2.633218</td>\n",
       "      <td>-0.0</td>\n",
       "      <td>4</td>\n",
       "    </tr>\n",
       "    <tr>\n",
       "      <th>4</th>\n",
       "      <td>4.616296</td>\n",
       "      <td>2.633216</td>\n",
       "      <td>0</td>\n",
       "      <td>0.0</td>\n",
       "      <td>0.0</td>\n",
       "      <td>0.0</td>\n",
       "      <td>0.0</td>\n",
       "      <td>0.0</td>\n",
       "      <td>0.0</td>\n",
       "      <td>0.285218</td>\n",
       "      <td>4.787172</td>\n",
       "      <td>2.462339</td>\n",
       "      <td>0.0</td>\n",
       "      <td>5</td>\n",
       "    </tr>\n",
       "  </tbody>\n",
       "</table>\n",
       "</div>"
      ],
      "text/plain": [
       "   initialUsedMemory  initialFreeMemory  gcRun  gcInitialMemory  \\\n",
       "0           4.249634           2.999878      0              0.0   \n",
       "1           4.409720           2.839792      0              0.0   \n",
       "2           4.482361           2.767151      0              0.0   \n",
       "3           4.542626           2.706886      0              0.0   \n",
       "4           4.616296           2.633216      0              0.0   \n",
       "\n",
       "   gcFinalMemory  gcTotalMemory  userTime  sysTime  realTime  cpuTimeTaken  \\\n",
       "0            0.0            0.0       0.0      0.0       0.0      0.371230   \n",
       "1            0.0            0.0       0.0      0.0       0.0      0.220883   \n",
       "2            0.0            0.0       0.0      0.0       0.0      0.141776   \n",
       "3            0.0            0.0       0.0      0.0       0.0      0.156459   \n",
       "4            0.0            0.0       0.0      0.0       0.0      0.285218   \n",
       "\n",
       "   finalUsedMemory  finalFreeMemory  changeInMemory  token  \n",
       "0         4.409714         2.839798            -0.0      1  \n",
       "1         4.482361         2.767151            -0.0      2  \n",
       "2         4.542626         2.706886             0.0      3  \n",
       "3         4.616293         2.633218            -0.0      4  \n",
       "4         4.787172         2.462339             0.0      5  "
      ]
     },
     "execution_count": 24,
     "metadata": {},
     "output_type": "execute_result"
    }
   ],
   "source": [
    "train.head()"
   ]
  },
  {
   "cell_type": "code",
   "execution_count": 25,
   "metadata": {},
   "outputs": [
    {
     "data": {
      "text/plain": [
       "(2730, 14)"
      ]
     },
     "execution_count": 25,
     "metadata": {},
     "output_type": "execute_result"
    }
   ],
   "source": [
    "train.shape"
   ]
  },
  {
   "cell_type": "code",
   "execution_count": 26,
   "metadata": {},
   "outputs": [
    {
     "data": {
      "image/png": "[encoded data removed]",
      "text/plain": [
       "<matplotlib.figure.Figure at 0xe024320>"
      ]
     },
     "metadata": {},
     "output_type": "display_data"
    }
   ],
   "source": [
    "cm = np.corrcoef(train.values.T)\n",
    "sns.set(font_scale=1.25)\n",
    "a4_dims = (30,30)\n",
    "fig ,ax = plt.subplots(figsize=a4_dims)\n",
    "hm = sns.heatmap(cm, cbar=True, annot=True, square=True, fmt='.2f',ax =ax, yticklabels=train.columns.values, xticklabels=train.columns.values)\n",
    "plt.show()"
   ]
  },
  {
   "cell_type": "code",
   "execution_count": 27,
   "metadata": {
    "collapsed": true
   },
   "outputs": [],
   "source": [
    "l =[]\n",
    "for index,row in test.iterrows():\n",
    "    token = row['query token']\n",
    "    l.append(int(filter(str.isdigit, token)))\n",
    "test['token'] = l"
   ]
  },
  {
   "cell_type": "code",
   "execution_count": 48,
   "metadata": {
    "scrolled": true
   },
   "outputs": [],
   "source": [
    "test.drop(['query token','gcRun'],axis=1,inplace=True)"
   ]
  },
  {
   "cell_type": "code",
   "execution_count": 49,
   "metadata": {
    "collapsed": true
   },
   "outputs": [],
   "source": [
    "X1 = train[['cpuTimeTaken','token']]\n",
    "y1 = train['gcRun']"
   ]
  },
  {
   "cell_type": "code",
   "execution_count": 50,
   "metadata": {
    "collapsed": true
   },
   "outputs": [],
   "source": [
    "scale= StandardScaler()\n",
    "X1 = scale.fit_transform(X1)"
   ]
  },
  {
   "cell_type": "code",
   "execution_count": 51,
   "metadata": {
    "collapsed": true
   },
   "outputs": [],
   "source": [
    "label_encoder = LabelEncoder()\n",
    "y1 = label_encoder.fit_transform(y1)"
   ]
  },
  {
   "cell_type": "code",
   "execution_count": 52,
   "metadata": {
    "collapsed": true
   },
   "outputs": [],
   "source": [
    "# pca = PCA(n_components=10)\n",
    "# fit =pca.fit(X)  \n"
   ]
  },
  {
   "cell_type": "code",
   "execution_count": 53,
   "metadata": {},
   "outputs": [],
   "source": [
    "# fit.components_"
   ]
  },
  {
   "cell_type": "code",
   "execution_count": 54,
   "metadata": {
    "collapsed": true
   },
   "outputs": [],
   "source": [
    "from sklearn.model_selection import train_test_split\n",
    "X_train, X_test, y_train, y_test = train_test_split(X1,y1,test_size=.1, random_state=42)"
   ]
  },
  {
   "cell_type": "code",
   "execution_count": 55,
   "metadata": {
    "collapsed": true
   },
   "outputs": [],
   "source": [
    "import xgboost as xgb\n",
    "import collections"
   ]
  },
  {
   "cell_type": "code",
   "execution_count": 56,
   "metadata": {},
   "outputs": [
    {
     "data": {
      "text/html": [
       "<div>\n",
       "<style>\n",
       "    .dataframe thead tr:only-child th {\n",
       "        text-align: right;\n",
       "    }\n",
       "\n",
       "    .dataframe thead th {\n",
       "        text-align: left;\n",
       "    }\n",
       "\n",
       "    .dataframe tbody tr th {\n",
       "        vertical-align: top;\n",
       "    }\n",
       "</style>\n",
       "<table border=\"1\" class=\"dataframe\">\n",
       "  <thead>\n",
       "    <tr style=\"text-align: right;\">\n",
       "      <th></th>\n",
       "      <th>initialUsedMemory</th>\n",
       "      <th>initialFreeMemory</th>\n",
       "      <th>cpuTimeTaken</th>\n",
       "      <th>token</th>\n",
       "    </tr>\n",
       "  </thead>\n",
       "  <tbody>\n",
       "    <tr>\n",
       "      <th>0</th>\n",
       "      <td>4.247186</td>\n",
       "      <td>2.774299</td>\n",
       "      <td>0.408436</td>\n",
       "      <td>11</td>\n",
       "    </tr>\n",
       "  </tbody>\n",
       "</table>\n",
       "</div>"
      ],
      "text/plain": [
       "   initialUsedMemory  initialFreeMemory  cpuTimeTaken  token\n",
       "0           4.247186           2.774299      0.408436     11"
      ]
     },
     "execution_count": 56,
     "metadata": {},
     "output_type": "execute_result"
    }
   ],
   "source": [
    "test.head(1)"
   ]
  },
  {
   "cell_type": "code",
   "execution_count": 37,
   "metadata": {
    "collapsed": true
   },
   "outputs": [],
   "source": [
    "dtrain = xgb.DMatrix(X1, label=y1)\n",
    "dtest = xgb.DMatrix(scale.fit_transform(scale.fit_transform(test[['cpuTimeTaken','token']])))"
   ]
  },
  {
   "cell_type": "code",
   "execution_count": 38,
   "metadata": {
    "collapsed": true
   },
   "outputs": [],
   "source": [
    "params2 = {\n",
    "    # Parameters that we are going to tune.\n",
    "    'max_depth':6,\n",
    "    'min_child_weight': 1,\n",
    "    'eta':.3,\n",
    "    'subsample': 1,\n",
    "    'colsample_bytree': 1,\n",
    "    # Other parameters\n",
    "    'objective':'multi:softprob',\n",
    "    'num_class':2\n",
    "}\n",
    "\n",
    "n_rounds = 15"
   ]
  },
  {
   "cell_type": "code",
   "execution_count": null,
   "metadata": {
    "collapsed": true
   },
   "outputs": [],
   "source": []
  },
  {
   "cell_type": "code",
   "execution_count": null,
   "metadata": {
    "collapsed": true
   },
   "outputs": [],
   "source": []
  },
  {
   "cell_type": "code",
   "execution_count": null,
   "metadata": {
    "collapsed": true
   },
   "outputs": [],
   "source": []
  },
  {
   "cell_type": "code",
   "execution_count": null,
   "metadata": {
    "collapsed": true
   },
   "outputs": [],
   "source": []
  },
  {
   "cell_type": "code",
   "execution_count": null,
   "metadata": {
    "collapsed": true
   },
   "outputs": [],
   "source": []
  },
  {
   "cell_type": "code",
   "execution_count": 39,
   "metadata": {
    "collapsed": true
   },
   "outputs": [],
   "source": [
    "bst = xgb.train(params2, dtrain, n_rounds)"
   ]
  },
  {
   "cell_type": "code",
   "execution_count": 40,
   "metadata": {},
   "outputs": [
    {
     "data": {
      "text/plain": [
       "<matplotlib.axes._subplots.AxesSubplot at 0xcfdf240>"
      ]
     },
     "execution_count": 40,
     "metadata": {},
     "output_type": "execute_result"
    },
    {
     "data": {
      "image/png": "[encoded data removed]",
      "text/plain": [
       "<matplotlib.figure.Figure at 0xe19de10>"
      ]
     },
     "metadata": {},
     "output_type": "display_data"
    }
   ],
   "source": [
    "xgb.plot_importance(bst, importance_type='gain', xlabel='Gain')"
   ]
  },
  {
   "cell_type": "code",
   "execution_count": 41,
   "metadata": {},
   "outputs": [
    {
     "data": {
      "text/plain": [
       "<matplotlib.axes._subplots.AxesSubplot at 0xe005e48>"
      ]
     },
     "execution_count": 41,
     "metadata": {},
     "output_type": "execute_result"
    },
    {
     "data": {
      "image/png": "[encoded data removed]",
      "text/plain": [
       "<matplotlib.figure.Figure at 0xcf32c50>"
      ]
     },
     "metadata": {},
     "output_type": "display_data"
    }
   ],
   "source": [
    "xgb.plot_importance(bst)"
   ]
  },
  {
   "cell_type": "code",
   "execution_count": 42,
   "metadata": {
    "collapsed": true
   },
   "outputs": [],
   "source": [
    "pred = (bst.predict(dtest) > .35).astype('int')"
   ]
  },
  {
   "cell_type": "code",
   "execution_count": 44,
   "metadata": {},
   "outputs": [
    {
     "data": {
      "text/plain": [
       "array([[1, 1],\n",
       "       [1, 0],\n",
       "       [1, 0],\n",
       "       ..., \n",
       "       [1, 0],\n",
       "       [1, 0],\n",
       "       [1, 0]])"
      ]
     },
     "execution_count": 44,
     "metadata": {},
     "output_type": "execute_result"
    }
   ],
   "source": [
    "pred"
   ]
  },
  {
   "cell_type": "code",
   "execution_count": 45,
   "metadata": {
    "collapsed": true
   },
   "outputs": [],
   "source": [
    "lis = []\n",
    "lis_ = []\n",
    "for i in range(1625):\n",
    "    a = np.argmax(pred[i])\n",
    "    lis.append(a)\n",
    "    b = max(pred[i])\n",
    "    lis_.append(b)"
   ]
  },
  {
   "cell_type": "code",
   "execution_count": 46,
   "metadata": {},
   "outputs": [
    {
     "data": {
      "text/plain": [
       "Counter({0: 1611, 1: 14})"
      ]
     },
     "execution_count": 46,
     "metadata": {},
     "output_type": "execute_result"
    }
   ],
   "source": [
    "collections.Counter(lis)"
   ]
  },
  {
   "cell_type": "code",
   "execution_count": 47,
   "metadata": {},
   "outputs": [
    {
     "data": {
      "text/plain": [
       "0    2559\n",
       "1     171\n",
       "Name: gcRun, dtype: int64"
      ]
     },
     "execution_count": 47,
     "metadata": {},
     "output_type": "execute_result"
    }
   ],
   "source": [
    "train['gcRun'].value_counts()"
   ]
  },
  {
   "cell_type": "code",
   "execution_count": 88,
   "metadata": {
    "collapsed": true
   },
   "outputs": [],
   "source": [
    "test['gcRun'] = lis"
   ]
  },
  {
   "cell_type": "code",
   "execution_count": 90,
   "metadata": {},
   "outputs": [
    {
     "data": {
      "text/html": [
       "<div>\n",
       "<style>\n",
       "    .dataframe thead tr:only-child th {\n",
       "        text-align: right;\n",
       "    }\n",
       "\n",
       "    .dataframe thead th {\n",
       "        text-align: left;\n",
       "    }\n",
       "\n",
       "    .dataframe tbody tr th {\n",
       "        vertical-align: top;\n",
       "    }\n",
       "</style>\n",
       "<table border=\"1\" class=\"dataframe\">\n",
       "  <thead>\n",
       "    <tr style=\"text-align: right;\">\n",
       "      <th></th>\n",
       "      <th>initialUsedMemory</th>\n",
       "      <th>initialFreeMemory</th>\n",
       "      <th>query token</th>\n",
       "      <th>cpuTimeTaken</th>\n",
       "      <th>gcRun</th>\n",
       "      <th>token</th>\n",
       "    </tr>\n",
       "  </thead>\n",
       "  <tbody>\n",
       "    <tr>\n",
       "      <th>0</th>\n",
       "      <td>4.247186</td>\n",
       "      <td>2.774299</td>\n",
       "      <td>token_11</td>\n",
       "      <td>0.408436</td>\n",
       "      <td>0</td>\n",
       "      <td>11</td>\n",
       "    </tr>\n",
       "    <tr>\n",
       "      <th>1</th>\n",
       "      <td>NaN</td>\n",
       "      <td>NaN</td>\n",
       "      <td>token_76</td>\n",
       "      <td>0.124429</td>\n",
       "      <td>0</td>\n",
       "      <td>76</td>\n",
       "    </tr>\n",
       "    <tr>\n",
       "      <th>2</th>\n",
       "      <td>NaN</td>\n",
       "      <td>NaN</td>\n",
       "      <td>token_53</td>\n",
       "      <td>0.245838</td>\n",
       "      <td>0</td>\n",
       "      <td>53</td>\n",
       "    </tr>\n",
       "    <tr>\n",
       "      <th>3</th>\n",
       "      <td>NaN</td>\n",
       "      <td>NaN</td>\n",
       "      <td>token_88</td>\n",
       "      <td>0.169346</td>\n",
       "      <td>0</td>\n",
       "      <td>88</td>\n",
       "    </tr>\n",
       "    <tr>\n",
       "      <th>4</th>\n",
       "      <td>NaN</td>\n",
       "      <td>NaN</td>\n",
       "      <td>token_70</td>\n",
       "      <td>0.296311</td>\n",
       "      <td>0</td>\n",
       "      <td>70</td>\n",
       "    </tr>\n",
       "    <tr>\n",
       "      <th>5</th>\n",
       "      <td>NaN</td>\n",
       "      <td>NaN</td>\n",
       "      <td>token_26</td>\n",
       "      <td>0.025018</td>\n",
       "      <td>0</td>\n",
       "      <td>26</td>\n",
       "    </tr>\n",
       "    <tr>\n",
       "      <th>6</th>\n",
       "      <td>NaN</td>\n",
       "      <td>NaN</td>\n",
       "      <td>token_4</td>\n",
       "      <td>0.121191</td>\n",
       "      <td>0</td>\n",
       "      <td>4</td>\n",
       "    </tr>\n",
       "    <tr>\n",
       "      <th>7</th>\n",
       "      <td>NaN</td>\n",
       "      <td>NaN</td>\n",
       "      <td>token_49</td>\n",
       "      <td>0.220577</td>\n",
       "      <td>0</td>\n",
       "      <td>49</td>\n",
       "    </tr>\n",
       "    <tr>\n",
       "      <th>8</th>\n",
       "      <td>NaN</td>\n",
       "      <td>NaN</td>\n",
       "      <td>token_75</td>\n",
       "      <td>0.133468</td>\n",
       "      <td>0</td>\n",
       "      <td>75</td>\n",
       "    </tr>\n",
       "    <tr>\n",
       "      <th>9</th>\n",
       "      <td>NaN</td>\n",
       "      <td>NaN</td>\n",
       "      <td>token_31</td>\n",
       "      <td>0.151191</td>\n",
       "      <td>0</td>\n",
       "      <td>31</td>\n",
       "    </tr>\n",
       "    <tr>\n",
       "      <th>10</th>\n",
       "      <td>NaN</td>\n",
       "      <td>NaN</td>\n",
       "      <td>token_89</td>\n",
       "      <td>0.252240</td>\n",
       "      <td>0</td>\n",
       "      <td>89</td>\n",
       "    </tr>\n",
       "    <tr>\n",
       "      <th>11</th>\n",
       "      <td>NaN</td>\n",
       "      <td>NaN</td>\n",
       "      <td>token_80</td>\n",
       "      <td>0.117464</td>\n",
       "      <td>0</td>\n",
       "      <td>80</td>\n",
       "    </tr>\n",
       "    <tr>\n",
       "      <th>12</th>\n",
       "      <td>NaN</td>\n",
       "      <td>NaN</td>\n",
       "      <td>token_45</td>\n",
       "      <td>0.877712</td>\n",
       "      <td>0</td>\n",
       "      <td>45</td>\n",
       "    </tr>\n",
       "    <tr>\n",
       "      <th>13</th>\n",
       "      <td>NaN</td>\n",
       "      <td>NaN</td>\n",
       "      <td>token_22</td>\n",
       "      <td>0.088055</td>\n",
       "      <td>0</td>\n",
       "      <td>22</td>\n",
       "    </tr>\n",
       "    <tr>\n",
       "      <th>14</th>\n",
       "      <td>NaN</td>\n",
       "      <td>NaN</td>\n",
       "      <td>token_33</td>\n",
       "      <td>0.355070</td>\n",
       "      <td>0</td>\n",
       "      <td>33</td>\n",
       "    </tr>\n",
       "    <tr>\n",
       "      <th>15</th>\n",
       "      <td>NaN</td>\n",
       "      <td>NaN</td>\n",
       "      <td>token_27</td>\n",
       "      <td>0.094717</td>\n",
       "      <td>0</td>\n",
       "      <td>27</td>\n",
       "    </tr>\n",
       "    <tr>\n",
       "      <th>16</th>\n",
       "      <td>NaN</td>\n",
       "      <td>NaN</td>\n",
       "      <td>token_86</td>\n",
       "      <td>0.329133</td>\n",
       "      <td>0</td>\n",
       "      <td>86</td>\n",
       "    </tr>\n",
       "    <tr>\n",
       "      <th>17</th>\n",
       "      <td>NaN</td>\n",
       "      <td>NaN</td>\n",
       "      <td>token_12</td>\n",
       "      <td>0.213073</td>\n",
       "      <td>0</td>\n",
       "      <td>12</td>\n",
       "    </tr>\n",
       "    <tr>\n",
       "      <th>18</th>\n",
       "      <td>NaN</td>\n",
       "      <td>NaN</td>\n",
       "      <td>token_28</td>\n",
       "      <td>0.168086</td>\n",
       "      <td>0</td>\n",
       "      <td>28</td>\n",
       "    </tr>\n",
       "    <tr>\n",
       "      <th>19</th>\n",
       "      <td>NaN</td>\n",
       "      <td>NaN</td>\n",
       "      <td>token_42</td>\n",
       "      <td>0.354663</td>\n",
       "      <td>0</td>\n",
       "      <td>42</td>\n",
       "    </tr>\n",
       "  </tbody>\n",
       "</table>\n",
       "</div>"
      ],
      "text/plain": [
       "    initialUsedMemory  initialFreeMemory query token  cpuTimeTaken  gcRun  \\\n",
       "0            4.247186           2.774299    token_11      0.408436      0   \n",
       "1                 NaN                NaN    token_76      0.124429      0   \n",
       "2                 NaN                NaN    token_53      0.245838      0   \n",
       "3                 NaN                NaN    token_88      0.169346      0   \n",
       "4                 NaN                NaN    token_70      0.296311      0   \n",
       "5                 NaN                NaN    token_26      0.025018      0   \n",
       "6                 NaN                NaN     token_4      0.121191      0   \n",
       "7                 NaN                NaN    token_49      0.220577      0   \n",
       "8                 NaN                NaN    token_75      0.133468      0   \n",
       "9                 NaN                NaN    token_31      0.151191      0   \n",
       "10                NaN                NaN    token_89      0.252240      0   \n",
       "11                NaN                NaN    token_80      0.117464      0   \n",
       "12                NaN                NaN    token_45      0.877712      0   \n",
       "13                NaN                NaN    token_22      0.088055      0   \n",
       "14                NaN                NaN    token_33      0.355070      0   \n",
       "15                NaN                NaN    token_27      0.094717      0   \n",
       "16                NaN                NaN    token_86      0.329133      0   \n",
       "17                NaN                NaN    token_12      0.213073      0   \n",
       "18                NaN                NaN    token_28      0.168086      0   \n",
       "19                NaN                NaN    token_42      0.354663      0   \n",
       "\n",
       "    token  \n",
       "0      11  \n",
       "1      76  \n",
       "2      53  \n",
       "3      88  \n",
       "4      70  \n",
       "5      26  \n",
       "6       4  \n",
       "7      49  \n",
       "8      75  \n",
       "9      31  \n",
       "10     89  \n",
       "11     80  \n",
       "12     45  \n",
       "13     22  \n",
       "14     33  \n",
       "15     27  \n",
       "16     86  \n",
       "17     12  \n",
       "18     28  \n",
       "19     42  "
      ]
     },
     "execution_count": 90,
     "metadata": {},
     "output_type": "execute_result"
    }
   ],
   "source": [
    "test.head(20)"
   ]
  },
  {
   "cell_type": "code",
   "execution_count": 54,
   "metadata": {},
   "outputs": [
    {
     "ename": "SyntaxError",
     "evalue": "invalid syntax (<ipython-input-54-a23ce05cc586>, line 2)",
     "output_type": "error",
     "traceback": [
      "\u001b[0;36m  File \u001b[0;32m\"<ipython-input-54-a23ce05cc586>\"\u001b[0;36m, line \u001b[0;32m2\u001b[0m\n\u001b[0;31m    clf_svr = svm.SVR(kernel=’rbf’, degree=3, gamma=’auto’ )\u001b[0m\n\u001b[0m                             ^\u001b[0m\n\u001b[0;31mSyntaxError\u001b[0m\u001b[0;31m:\u001b[0m invalid syntax\n"
     ]
    }
   ],
   "source": [
    "clf_lr = linear_model.LogisticRegression()\n",
    "clf_svr = svm.SVR()\n",
    "clf_xg = "
   ]
  },
  {
   "cell_type": "code",
   "execution_count": 49,
   "metadata": {},
   "outputs": [
    {
     "data": {
      "text/plain": [
       "SVR(C=1.0, cache_size=200, coef0=0.0, degree=3, epsilon=0.1, gamma='auto',\n",
       "  kernel='rbf', max_iter=-1, shrinking=True, tol=0.001, verbose=False)"
      ]
     },
     "execution_count": 49,
     "metadata": {},
     "output_type": "execute_result"
    }
   ],
   "source": [
    "clf_svr.fit(X_train, y_train)"
   ]
  },
  {
   "cell_type": "code",
   "execution_count": 51,
   "metadata": {},
   "outputs": [
    {
     "data": {
      "text/plain": [
       "-0.00100778754836095"
      ]
     },
     "execution_count": 51,
     "metadata": {},
     "output_type": "execute_result"
    }
   ],
   "source": [
    "clf_svr.score(X_test,y_test)"
   ]
  },
  {
   "cell_type": "code",
   "execution_count": 62,
   "metadata": {},
   "outputs": [
    {
     "data": {
      "text/html": [
       "<div>\n",
       "<style>\n",
       "    .dataframe thead tr:only-child th {\n",
       "        text-align: right;\n",
       "    }\n",
       "\n",
       "    .dataframe thead th {\n",
       "        text-align: left;\n",
       "    }\n",
       "\n",
       "    .dataframe tbody tr th {\n",
       "        vertical-align: top;\n",
       "    }\n",
       "</style>\n",
       "<table border=\"1\" class=\"dataframe\">\n",
       "  <thead>\n",
       "    <tr style=\"text-align: right;\">\n",
       "      <th></th>\n",
       "      <th>initialUsedMemory</th>\n",
       "      <th>initialFreeMemory</th>\n",
       "      <th>query token</th>\n",
       "      <th>cpuTimeTaken</th>\n",
       "      <th>gcRun</th>\n",
       "    </tr>\n",
       "  </thead>\n",
       "  <tbody>\n",
       "    <tr>\n",
       "      <th>0</th>\n",
       "      <td>4.247186</td>\n",
       "      <td>2.774299</td>\n",
       "      <td>token_11</td>\n",
       "      <td>0.408436</td>\n",
       "      <td>NaN</td>\n",
       "    </tr>\n",
       "    <tr>\n",
       "      <th>1</th>\n",
       "      <td>NaN</td>\n",
       "      <td>NaN</td>\n",
       "      <td>token_76</td>\n",
       "      <td>0.124429</td>\n",
       "      <td>NaN</td>\n",
       "    </tr>\n",
       "    <tr>\n",
       "      <th>2</th>\n",
       "      <td>NaN</td>\n",
       "      <td>NaN</td>\n",
       "      <td>token_53</td>\n",
       "      <td>0.245838</td>\n",
       "      <td>NaN</td>\n",
       "    </tr>\n",
       "    <tr>\n",
       "      <th>3</th>\n",
       "      <td>NaN</td>\n",
       "      <td>NaN</td>\n",
       "      <td>token_88</td>\n",
       "      <td>0.169346</td>\n",
       "      <td>NaN</td>\n",
       "    </tr>\n",
       "    <tr>\n",
       "      <th>4</th>\n",
       "      <td>NaN</td>\n",
       "      <td>NaN</td>\n",
       "      <td>token_70</td>\n",
       "      <td>0.296311</td>\n",
       "      <td>NaN</td>\n",
       "    </tr>\n",
       "  </tbody>\n",
       "</table>\n",
       "</div>"
      ],
      "text/plain": [
       "   initialUsedMemory  initialFreeMemory query token  cpuTimeTaken  gcRun\n",
       "0           4.247186           2.774299    token_11      0.408436    NaN\n",
       "1                NaN                NaN    token_76      0.124429    NaN\n",
       "2                NaN                NaN    token_53      0.245838    NaN\n",
       "3                NaN                NaN    token_88      0.169346    NaN\n",
       "4                NaN                NaN    token_70      0.296311    NaN"
      ]
     },
     "execution_count": 62,
     "metadata": {},
     "output_type": "execute_result"
    }
   ],
   "source": [
    "test.head()"
   ]
  },
  {
   "cell_type": "code",
   "execution_count": null,
   "metadata": {
    "collapsed": true
   },
   "outputs": [],
   "source": [
    "gcrun = clf_svm.predict()"
   ]
  }
 ],
 "metadata": {
  "kernelspec": {
   "display_name": "Python 2",
   "language": "python",
   "name": "python2"
  },
  "language_info": {
   "codemirror_mode": {
    "name": "ipython",
    "version": 2
   },
   "file_extension": ".py",
   "mimetype": "text/x-python",
   "name": "python",
   "nbconvert_exporter": "python",
   "pygments_lexer": "ipython2",
   "version": "2.7.13"
  }
 },
 "nbformat": 4,
 "nbformat_minor": 2
}
